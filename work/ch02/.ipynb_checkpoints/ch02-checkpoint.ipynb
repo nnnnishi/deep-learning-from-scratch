{
 "cells": [
  {
   "cell_type": "markdown",
   "metadata": {},
   "source": [
    "# 2.3 パーセプトロンの実装\n"
   ]
  },
  {
   "cell_type": "code",
   "execution_count": 1,
   "metadata": {},
   "outputs": [],
   "source": [
    "def AND(x1, x2):\n",
    "    w1, w2, theta = 0.5, 0.5, 1\n",
    "    if w1*x1 + w2*x2 >= 1:\n",
    "        return 1\n",
    "    else:\n",
    "        return 0"
   ]
  },
  {
   "cell_type": "code",
   "execution_count": 2,
   "metadata": {},
   "outputs": [
    {
     "name": "stdout",
     "output_type": "stream",
     "text": [
      "AND(0, 0) 0\n",
      "AND(1, 0) 0\n",
      "AND(0, 1) 0\n",
      "AND(1, 1) 1\n"
     ]
    }
   ],
   "source": [
    "print( \"AND(0, 0)\", AND(0, 0))\n",
    "print( \"AND(1, 0)\", AND(1, 0))\n",
    "print( \"AND(0, 1)\", AND(0, 1))\n",
    "print( \"AND(1, 1)\", AND(1, 1))"
   ]
  },
  {
   "cell_type": "code",
   "execution_count": 4,
   "metadata": {},
   "outputs": [
    {
     "data": {
      "text/plain": [
       "array([0. , 0.5])"
      ]
     },
     "execution_count": 4,
     "metadata": {},
     "output_type": "execute_result"
    }
   ],
   "source": [
    "import numpy as np\n",
    "x = np.array([0, 1])\n",
    "w = np.array([0.5, 0.5])\n",
    "b = -0.7\n",
    "w*x"
   ]
  },
  {
   "cell_type": "code",
   "execution_count": 5,
   "metadata": {},
   "outputs": [
    {
     "data": {
      "text/plain": [
       "-0.19999999999999996"
      ]
     },
     "execution_count": 5,
     "metadata": {},
     "output_type": "execute_result"
    }
   ],
   "source": [
    "np.sum(w*x)+b"
   ]
  },
  {
   "cell_type": "code",
   "execution_count": 6,
   "metadata": {},
   "outputs": [],
   "source": [
    "def AND(x1, x2):\n",
    "    x = np.array([x1, x2])\n",
    "    w = np.array([0.5, 0.5])\n",
    "    b = -0.7\n",
    "    if np.sum(w*x)+b >= 0:\n",
    "        return 1\n",
    "    else:\n",
    "        return 0\n"
   ]
  },
  {
   "cell_type": "code",
   "execution_count": 7,
   "metadata": {},
   "outputs": [
    {
     "name": "stdout",
     "output_type": "stream",
     "text": [
      "AND(0, 0) 0\n",
      "AND(1, 0) 0\n",
      "AND(0, 1) 0\n",
      "AND(1, 1) 1\n"
     ]
    }
   ],
   "source": [
    "print( \"AND(0, 0)\", AND(0, 0))\n",
    "print( \"AND(1, 0)\", AND(1, 0))\n",
    "print( \"AND(0, 1)\", AND(0, 1))\n",
    "print( \"AND(1, 1)\", AND(1, 1))"
   ]
  },
  {
   "cell_type": "code",
   "execution_count": 8,
   "metadata": {},
   "outputs": [],
   "source": [
    "def NAND(x1, x2):\n",
    "    x = np.array([x1, x2])\n",
    "    w = np.array([-0.5, -0.5])\n",
    "    b = 0.7\n",
    "    if np.sum(w*x)+b >= 0:\n",
    "        return 1\n",
    "    else:\n",
    "        return 0"
   ]
  },
  {
   "cell_type": "code",
   "execution_count": 9,
   "metadata": {},
   "outputs": [
    {
     "name": "stdout",
     "output_type": "stream",
     "text": [
      "NAND(0, 0) 1\n",
      "NAND(1, 0) 1\n",
      "NAND(0, 1) 1\n",
      "NAND(1, 1) 0\n"
     ]
    }
   ],
   "source": [
    "print( \"NAND(0, 0)\", NAND(0, 0))\n",
    "print( \"NAND(1, 0)\", NAND(1, 0))\n",
    "print( \"NAND(0, 1)\", NAND(0, 1))\n",
    "print( \"NAND(1, 1)\", NAND(1, 1))"
   ]
  },
  {
   "cell_type": "code",
   "execution_count": 10,
   "metadata": {},
   "outputs": [],
   "source": [
    "def OR(x1, x2):\n",
    "    x = np.array([x1, x2])\n",
    "    w = np.array([1, 1])\n",
    "    b = -1\n",
    "    if np.sum(w*x)+b >= 0:\n",
    "        return 1\n",
    "    else:\n",
    "        return 0"
   ]
  },
  {
   "cell_type": "code",
   "execution_count": 11,
   "metadata": {},
   "outputs": [
    {
     "name": "stdout",
     "output_type": "stream",
     "text": [
      "OR(0, 0) 0\n",
      "OR(1, 0) 1\n",
      "OR(0, 1) 1\n",
      "OR(1, 1) 1\n"
     ]
    }
   ],
   "source": [
    "print( \"OR(0, 0)\", OR(0, 0))\n",
    "print( \"OR(1, 0)\", OR(1, 0))\n",
    "print( \"OR(0, 1)\", OR(0, 1))\n",
    "print( \"OR(1, 1)\", OR(1, 1))"
   ]
  },
  {
   "cell_type": "markdown",
   "metadata": {},
   "source": [
    "# 2.4 パーセプトロンの限界"
   ]
  },
  {
   "cell_type": "code",
   "execution_count": 13,
   "metadata": {},
   "outputs": [],
   "source": [
    "def XOR(x1, x2):\n",
    "    a = OR(x1, x2)\n",
    "    b = NAND(x1, x2)\n",
    "    if AND(a, b) >= 0:\n",
    "        return 1\n",
    "    else:\n",
    "        return 0"
   ]
  },
  {
   "cell_type": "code",
   "execution_count": 16,
   "metadata": {},
   "outputs": [
    {
     "name": "stdout",
     "output_type": "stream",
     "text": [
      "XOR(0, 0) 0\n",
      "XOR(1, 0) 1\n",
      "XOR(0, 1) 1\n",
      "XOR(1, 1) 0\n"
     ]
    }
   ],
   "source": [
    "print( \"XOR(0, 0)\", XOR(0, 0))\n",
    "print( \"XOR(1, 0)\", XOR(1, 0))\n",
    "print( \"XOR(0, 1)\", XOR(0, 1))\n",
    "print( \"XOR(1, 1)\", XOR(1, 1))"
   ]
  }
 ],
 "metadata": {
  "anaconda-cloud": {},
  "file_extension": ".py",
  "kernelspec": {
   "display_name": "Python [conda env:anaconda3-4.1.1]",
   "language": "python",
   "name": "conda-env-anaconda3-4.1.1-py"
  },
  "language_info": {
   "codemirror_mode": {
    "name": "ipython",
    "version": 3
   },
   "file_extension": ".py",
   "mimetype": "text/x-python",
   "name": "python",
   "nbconvert_exporter": "python",
   "pygments_lexer": "ipython3",
   "version": "3.5.2"
  },
  "mimetype": "text/x-python",
  "name": "python",
  "npconvert_exporter": "python",
  "pygments_lexer": "ipythonP",
  "version": "Python 3.5.2 :: Anaconda custom (x86_64)"
 },
 "nbformat": 4,
 "nbformat_minor": 2
}
